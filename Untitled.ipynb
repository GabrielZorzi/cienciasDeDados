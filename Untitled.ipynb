{
 "cells": [
  {
   "cell_type": "markdown",
   "id": "50fd92ba-4546-4de0-b881-ccabe5a07e34",
   "metadata": {
    "tags": []
   },
   "source": [
    "# Importing the data"
   ]
  },
  {
   "cell_type": "code",
   "execution_count": 3,
   "id": "b5ecd6eb-c9c6-4805-a2cc-dae301713fb6",
   "metadata": {
    "tags": []
   },
   "outputs": [],
   "source": [
    "    import warnings, requests, zipfile, io\n",
    "    warnings.simplefilter('ignore')\n",
    "    import pandas as pd\n",
    "    from scipy.io import arff"
   ]
  },
  {
   "cell_type": "code",
   "execution_count": 4,
   "id": "f840fb53-5c65-439c-9c05-3ff18ebea4d3",
   "metadata": {
    "tags": []
   },
   "outputs": [],
   "source": [
    "    f_zip = 'http://archive.ics.uci.edu/ml/machine-learning-databases/00212/vertebral_column_data.zip'\n",
    "    r = requests.get(f_zip, stream=True)\n",
    "    Vertebral_zip = zipfile.ZipFile(io.BytesIO(r.content))\n",
    "    Vertebral_zip.extractall()"
   ]
  },
  {
   "cell_type": "code",
   "execution_count": null,
   "id": "5722c658-7c8d-4829-a2a2-f1f1c8bc1f7d",
   "metadata": {},
   "outputs": [],
   "source": []
  }
 ],
 "metadata": {
  "kernelspec": {
   "display_name": "conda_python3",
   "language": "python",
   "name": "conda_python3"
  },
  "language_info": {
   "codemirror_mode": {
    "name": "ipython",
    "version": 3
   },
   "file_extension": ".py",
   "mimetype": "text/x-python",
   "name": "python",
   "nbconvert_exporter": "python",
   "pygments_lexer": "ipython3",
   "version": "3.10.12"
  }
 },
 "nbformat": 4,
 "nbformat_minor": 5
}
